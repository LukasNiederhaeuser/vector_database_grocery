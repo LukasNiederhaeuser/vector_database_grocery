{
 "cells": [
  {
   "cell_type": "code",
   "execution_count": 1,
   "metadata": {},
   "outputs": [],
   "source": [
    "import os\n",
    "import chromadb\n",
    "from chromadb.utils.embedding_functions import OpenAIEmbeddingFunction\n",
    "\n",
    "# Define folder\n",
    "FOLDER_CHROMADB = os.path.join(os.path.dirname(os.getcwd()), 'chromadb')"
   ]
  },
  {
   "cell_type": "markdown",
   "metadata": {},
   "source": [
    "# 1. Retrieve and Query Data"
   ]
  },
  {
   "cell_type": "code",
   "execution_count": 2,
   "metadata": {},
   "outputs": [],
   "source": [
    "# retrieve data\n",
    "chromadb_client = chromadb.PersistentClient(path=FOLDER_CHROMADB)\n",
    "# Retrieve the existing collection by name\n",
    "collection = chromadb_client.get_collection(name='grocery_products')"
   ]
  },
  {
   "cell_type": "code",
   "execution_count": 3,
   "metadata": {},
   "outputs": [
    {
     "name": "stdout",
     "output_type": "stream",
     "text": [
      "{'ids': [['0', '281']], 'embeddings': None, 'documents': [[\"Title: Bio Beef Delight Dog Snack, 10x4g \\nDescription: These easily digestible dog treats contain omega-3 fatty acids from organic salmon, which support your dog's healthy immune system. Mango, lemon and capers, together with the other ingredients, provide a variety of vitamins, minerals and essential amino acids that are essential for a healthy lifestyle. Handmade and baked in the traditional way, made from fresh, organic and high quality ingredients that are also suitable for human consumption. \\nCategories: Pets, Dogs, Treats\", 'Title: Dogs and cat sausage from the butcher, 450g \\nDescription: Only the best for your darling: The Dogs and Cat Sausage from Regio Metzg is 100% swiss meat. \\nCategories: Pets, Dogs, Treats']], 'uris': None, 'data': None, 'metadatas': [[None, None]], 'distances': [[1.1137300729751587, 1.1209049224853516]], 'included': [<IncludeEnum.distances: 'distances'>, <IncludeEnum.documents: 'documents'>, <IncludeEnum.metadatas: 'metadatas'>]}\n"
     ]
    }
   ],
   "source": [
    "# query database\n",
    "result = collection.query(\n",
    "    query_texts=['Food for my cat'],\n",
    "    n_results=2\n",
    ")\n",
    "print(result)"
   ]
  },
  {
   "cell_type": "code",
   "execution_count": 4,
   "metadata": {},
   "outputs": [
    {
     "data": {
      "text/plain": [
       "[\"Title: Bio Beef Delight Dog Snack, 10x4g \\nDescription: These easily digestible dog treats contain omega-3 fatty acids from organic salmon, which support your dog's healthy immune system. Mango, lemon and capers, together with the other ingredients, provide a variety of vitamins, minerals and essential amino acids that are essential for a healthy lifestyle. Handmade and baked in the traditional way, made from fresh, organic and high quality ingredients that are also suitable for human consumption. \\nCategories: Pets, Dogs, Treats\",\n",
       " 'Title: Dogs and cat sausage from the butcher, 450g \\nDescription: Only the best for your darling: The Dogs and Cat Sausage from Regio Metzg is 100% swiss meat. \\nCategories: Pets, Dogs, Treats']"
      ]
     },
     "execution_count": 4,
     "metadata": {},
     "output_type": "execute_result"
    }
   ],
   "source": [
    "result['documents'][0]"
   ]
  },
  {
   "cell_type": "code",
   "execution_count": null,
   "metadata": {},
   "outputs": [],
   "source": []
  }
 ],
 "metadata": {
  "kernelspec": {
   "display_name": "vector_database_grocery",
   "language": "python",
   "name": "python3"
  },
  "language_info": {
   "codemirror_mode": {
    "name": "ipython",
    "version": 3
   },
   "file_extension": ".py",
   "mimetype": "text/x-python",
   "name": "python",
   "nbconvert_exporter": "python",
   "pygments_lexer": "ipython3",
   "version": "3.11.10"
  }
 },
 "nbformat": 4,
 "nbformat_minor": 2
}
